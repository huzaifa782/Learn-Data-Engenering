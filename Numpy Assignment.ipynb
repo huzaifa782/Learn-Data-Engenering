{
 "cells": [
  {
   "cell_type": "markdown",
   "id": "c38a9bb7-8542-4601-b27b-5c23cc44c140",
   "metadata": {},
   "source": [
    "## **1. Basic Array Manipulation:**"
   ]
  },
  {
   "cell_type": "code",
   "execution_count": 2,
   "id": "75b85e0b-e31d-4c4d-b802-1cb847ab5a61",
   "metadata": {},
   "outputs": [
    {
     "data": {
      "text/plain": [
       "array([0, 1, 2, 3, 4, 5, 6, 7, 8, 9])"
      ]
     },
     "execution_count": 2,
     "metadata": {},
     "output_type": "execute_result"
    }
   ],
   "source": [
    "import numpy as np\n",
    "np_array = np.arange(10)\n",
    "np_array\n"
   ]
  },
  {
   "cell_type": "markdown",
   "id": "511a0b43-2270-42bd-b2c8-cbb3a463cca9",
   "metadata": {},
   "source": [
    "##  Reshape the array into a 3x3 matrix.\n",
    "\n",
    "Explore Reshape Function"
   ]
  },
  {
   "cell_type": "code",
   "execution_count": 10,
   "id": "70265f8a-b73e-4097-99d1-65370d103101",
   "metadata": {},
   "outputs": [
    {
     "name": "stdout",
     "output_type": "stream",
     "text": [
      "[[0 1 2]\n",
      " [3 4 5]\n",
      " [6 7 8]]\n"
     ]
    }
   ],
   "source": [
    "array_1d = np.arange(9)\n",
    "array_3x3 = array_1d.reshape(3, 3)\n",
    "\n",
    "print(array_3x3)\n"
   ]
  },
  {
   "cell_type": "markdown",
   "id": "616d36c0-f458-45da-81d1-b4a0c8c97bc5",
   "metadata": {},
   "source": [
    "#   Access the element at the second row, second column"
   ]
  },
  {
   "cell_type": "code",
   "execution_count": 11,
   "id": "fcbe6b17-200d-480f-87ba-d100039270c6",
   "metadata": {},
   "outputs": [
    {
     "name": "stdout",
     "output_type": "stream",
     "text": [
      "Element at the second row, second column: 3\n"
     ]
    }
   ],
   "source": [
    "array_1d = np.arange(10)\n",
    "array_5x2 = array_1d.reshape(5, 2)\n",
    "\n",
    "element = array_5x2[1, 1]\n",
    "\n",
    "print(\"Element at the second row, second column:\", element)\n"
   ]
  },
  {
   "cell_type": "markdown",
   "id": "0e37b3a4-919d-436e-91e6-6295f83ce401",
   "metadata": {},
   "source": [
    "## Perform element-wise addition, subtraction, multiplication, and division on two arrays [1, 2, 3] and [4, 5, 6]."
   ]
  },
  {
   "cell_type": "code",
   "execution_count": 13,
   "id": "61699f05-c3d3-4d16-b8d9-577d88e94f2d",
   "metadata": {},
   "outputs": [
    {
     "name": "stdout",
     "output_type": "stream",
     "text": [
      "Element-wise addition: [ 6  9 12]\n",
      "Element-wise subtraction: [-2 -1  0]\n",
      "Element-wise multiplication: [ 8 20 36]\n",
      "Element-wise division: [0.5 0.8 1. ]\n"
     ]
    }
   ],
   "source": [
    "array1 = np.array([2, 4, 6])\n",
    "array2 = np.array([4, 5, 6])\n",
    "\n",
    "addition_result = array1 + array2\n",
    "subtraction_result = array1 - array2\n",
    "multiplication_result = array1 * array2\n",
    "division_result = array1 / array2\n",
    "\n",
    "print(\"Element-wise addition:\", addition_result)\n",
    "print(\"Element-wise subtraction:\", subtraction_result)\n",
    "print(\"Element-wise multiplication:\", multiplication_result)\n",
    "print(\"Element-wise division:\", division_result)\n"
   ]
  },
  {
   "cell_type": "markdown",
   "id": "58243aa8-30b4-438c-9122-8402afa51055",
   "metadata": {},
   "source": [
    "#  Find the sum, mean, and standard deviation of the array [1, 2, 3, 4, 5]."
   ]
  },
  {
   "cell_type": "code",
   "execution_count": 14,
   "id": "d9152375-96a9-498e-9484-ceb5cbdeece7",
   "metadata": {},
   "outputs": [
    {
     "name": "stdout",
     "output_type": "stream",
     "text": [
      "Sum of the array: 15\n",
      "Mean of the array: 3.0\n",
      "Standard deviation of the array: 1.4142135623730951\n"
     ]
    }
   ],
   "source": [
    "array = np.array([1, 2, 3, 4, 5])\n",
    "\n",
    "array_sum = np.sum(array)\n",
    "array_mean = np.mean(array)\n",
    "array_stddev = np.std(array)\n",
    "\n",
    "print(\"Sum of the array:\", array_sum)\n",
    "print(\"Mean of the array:\", array_mean)\n",
    "print(\"Standard deviation of the array:\", array_stddev)\n"
   ]
  },
  {
   "cell_type": "markdown",
   "id": "dcd57949-30b4-4368-b093-2014995e4f1e",
   "metadata": {},
   "source": [
    "##  Reshape the array [1, 2, 3, 4, 5, 6] into a 2x3 array.\r\n",
    "\r\n",
    "Explore Reshape"
   ]
  },
  {
   "cell_type": "code",
   "execution_count": 15,
   "id": "3a1eca2a-623d-484d-95ab-e8ef0cb97596",
   "metadata": {},
   "outputs": [
    {
     "data": {
      "text/plain": [
       "array([[1, 2, 3],\n",
       "       [4, 5, 6]])"
      ]
     },
     "execution_count": 15,
     "metadata": {},
     "output_type": "execute_result"
    }
   ],
   "source": [
    "np_array = np.array([1, 2, 3, 4, 5, 6])\n",
    "\n",
    "reshaped_array = np_array.reshape(2, 3)\n",
    "\n",
    "reshaped_array\n"
   ]
  },
  {
   "cell_type": "markdown",
   "id": "7c485b37-1b7c-4569-b41e-5cfaabf65f6b",
   "metadata": {},
   "source": [
    "##  **2. Indexing and Slicing:**"
   ]
  },
  {
   "cell_type": "markdown",
   "id": "80edc49d-56f8-484f-a442-93ba6736304d",
   "metadata": {},
   "source": [
    "## Create a 5x5 array with random integers."
   ]
  },
  {
   "cell_type": "code",
   "execution_count": 18,
   "id": "c7eae15e-ebd2-4005-8450-e1bb073f3b53",
   "metadata": {},
   "outputs": [
    {
     "data": {
      "text/plain": [
       "array([[96,  3, 73, 18, 88],\n",
       "       [38, 61, 47, 81,  3],\n",
       "       [ 9, 54, 71, 63, 68],\n",
       "       [82, 42, 72, 74, 73],\n",
       "       [58, 77,  4, 75, 72]])"
      ]
     },
     "execution_count": 18,
     "metadata": {},
     "output_type": "execute_result"
    }
   ],
   "source": [
    "random_array = np.random.randint(0, 101, size=(5, 5))\n",
    "\n",
    "random_array\n",
    "\n"
   ]
  },
  {
   "cell_type": "markdown",
   "id": "a891539b-24ca-4329-852c-575a7abe7619",
   "metadata": {},
   "source": [
    "# Replace all values in the sub-array with a specific value."
   ]
  },
  {
   "cell_type": "code",
   "execution_count": 27,
   "id": "697010b2-2d54-433b-8e1f-791d5bd8e79c",
   "metadata": {},
   "outputs": [
    {
     "name": "stdout",
     "output_type": "stream",
     "text": [
      "Original array:\n",
      "[[72 45 76 47 69]\n",
      " [18  1 62  4 21]\n",
      " [65 96 85 87 73]\n",
      " [27 30 51 34 76]\n",
      " [15 56  1 16  1]]\n",
      "\n",
      "Array after replacing values in the sub-array:\n",
      "[[99 99 99 99 69]\n",
      " [18  1 62  4 21]\n",
      " [65 96 85 87 73]\n",
      " [27 30 51 34 76]\n",
      " [15 56  1 16  1]]\n"
     ]
    }
   ],
   "source": [
    "random_array = np.random.randint(0, 100, size=(5, 5))\n",
    "\n",
    "print(\"Original array:\")\n",
    "print(random_array)\n",
    "\n",
    "random_array[0:1, 0:4] = 99\n",
    "print(\"\\nArray after replacing values in the sub-array:\")\n",
    "print(random_array)\n",
    "\n"
   ]
  },
  {
   "cell_type": "markdown",
   "id": "af66ec15-a854-4c58-b7f5-7a27061b86cc",
   "metadata": {},
   "source": [
    "## Extract the subarray [[3, 4], [7, 8]] from the array [[1, 2], [3, 4], [5, 6], [7, 8]].\r\n"
   ]
  },
  {
   "cell_type": "code",
   "execution_count": 30,
   "id": "f9bd660b-3938-4328-8b88-1baa73b78f14",
   "metadata": {},
   "outputs": [
    {
     "data": {
      "text/plain": [
       "array([[3, 4],\n",
       "       [7, 8]])"
      ]
     },
     "execution_count": 30,
     "metadata": {},
     "output_type": "execute_result"
    }
   ],
   "source": [
    "array = np.array([[1, 2], [3, 4], [5, 6], [7, 8]])\n",
    "subarray = array[[1, 3], :]\n",
    "\n",
    "subarray\n"
   ]
  },
  {
   "cell_type": "markdown",
   "id": "6cbcff60-227a-4ca1-8c83-a6248f83849e",
   "metadata": {},
   "source": [
    "##  **3. Broadcasting:**"
   ]
  },
  {
   "cell_type": "markdown",
   "id": "a4f8a3be-0d1f-4430-bba3-5c3b75b9dc7c",
   "metadata": {},
   "source": [
    "## Create a 2D array of shape (3, 3) with values from 0 to 2."
   ]
  },
  {
   "cell_type": "code",
   "execution_count": 31,
   "id": "0e7c15ec-706c-4acc-8815-8a715989848e",
   "metadata": {},
   "outputs": [
    {
     "data": {
      "text/plain": [
       "array([[0, 1, 2],\n",
       "       [0, 1, 2],\n",
       "       [0, 1, 2]])"
      ]
     },
     "execution_count": 31,
     "metadata": {},
     "output_type": "execute_result"
    }
   ],
   "source": [
    "np_array = np.tile(np.arange(3), (3, 1))\n",
    "\n",
    "np_array\n"
   ]
  },
  {
   "cell_type": "markdown",
   "id": "526c84db-8312-4e71-8941-94d5162b72cf",
   "metadata": {},
   "source": [
    "## Add a 1D array of shape (3,) to each row of the 2D array using broadcasting."
   ]
  },
  {
   "cell_type": "code",
   "execution_count": 35,
   "id": "4aaf98e3-dae8-4ba0-8b04-54cbcf1bb996",
   "metadata": {},
   "outputs": [
    {
     "name": "stdout",
     "output_type": "stream",
     "text": [
      "2D array:\n",
      "[[0 1 2]\n",
      " [0 1 2]\n",
      " [0 1 2]]\n",
      "\n",
      "1D array:\n",
      "[1 2 3]\n",
      "\n",
      "Result after broadcasting:\n"
     ]
    },
    {
     "data": {
      "text/plain": [
       "array([[1, 3, 5],\n",
       "       [1, 3, 5],\n",
       "       [1, 3, 5]])"
      ]
     },
     "execution_count": 35,
     "metadata": {},
     "output_type": "execute_result"
    }
   ],
   "source": [
    "array_2d = np.array([[0, 1, 2], [0, 1, 2], [0, 1, 2]])\n",
    "array_1d = np.array([1, 2, 3])\n",
    "add_array = array_2d + array_1d\n",
    "\n",
    "print(\"2D array:\")\n",
    "print(array_2d)\n",
    "print(\"\\n1D array:\")\n",
    "print(array_1d)\n",
    "print(\"\\nResult after broadcasting:\")\n",
    "add_array\n"
   ]
  },
  {
   "cell_type": "markdown",
   "id": "568ae87d-0aa3-4354-83f6-4cc1ed17f8bb",
   "metadata": {},
   "source": [
    "#  **4. Concatenation and Splitting**"
   ]
  },
  {
   "cell_type": "markdown",
   "id": "465dd7f5-8246-456c-b639-f281acbb8e4c",
   "metadata": {},
   "source": [
    "# 1.   Create two 2D arrays of shape (3, 3) with random integers.\r\n",
    "2.   Concatenate them horizontally and vertically.\r\n",
    "3.   Split the concatenated arrays back into the original arrays."
   ]
  },
  {
   "cell_type": "code",
   "execution_count": 38,
   "id": "30044b2c-535e-4547-abab-12d0096831bb",
   "metadata": {},
   "outputs": [
    {
     "name": "stdout",
     "output_type": "stream",
     "text": [
      "Array 1:\n",
      " [[2 9 7]\n",
      " [5 4 3]\n",
      " [8 1 4]]\n",
      "Array 2:\n",
      " [[4 9 1]\n",
      " [3 2 1]\n",
      " [7 3 4]]\n",
      "Concatenated horizontally:\n",
      " [[2 9 7 4 9 1]\n",
      " [5 4 3 3 2 1]\n",
      " [8 1 4 7 3 4]]\n",
      "Concatenated vertically:\n",
      " [[2 9 7]\n",
      " [5 4 3]\n",
      " [8 1 4]\n",
      " [4 9 1]\n",
      " [3 2 1]\n",
      " [7 3 4]]\n",
      "Split from concatenated horizontal (assuming original shapes are known):\n",
      "First half:\n",
      " [[2 9 7]\n",
      " [5 4 3]\n",
      " [8 1 4]]\n",
      "Second half:\n",
      " [[4 9 1]\n",
      " [3 2 1]\n",
      " [7 3 4]]\n",
      "Split from concatenated vertical (assuming original shapes are known):\n",
      "Top half:\n",
      " [[2 9 7]\n",
      " [5 4 3]\n",
      " [8 1 4]]\n",
      "Bottom half:\n",
      " [[4 9 1]\n",
      " [3 2 1]\n",
      " [7 3 4]]\n"
     ]
    }
   ],
   "source": [
    "array1 = np.random.randint(10, size=(3, 3))\n",
    "array2 = np.random.randint(10, size=(3, 3))\n",
    "\n",
    "print(\"Array 1:\\n\", array1)\n",
    "print(\"Array 2:\\n\", array2)\n",
    "concatenated_horizontal = np.concatenate((array1, array2), axis=1)\n",
    "concatenated_vertical = np.concatenate((array1, array2), axis=0)\n",
    "print(\"Concatenated horizontally:\\n\", concatenated_horizontal)\n",
    "print(\"Concatenated vertically:\\n\", concatenated_vertical)\n",
    "\n",
    "first_half = concatenated_horizontal[:, :array1.shape[1]]\n",
    "second_half = concatenated_horizontal[:, array1.shape[1]:]\n",
    "top_half = concatenated_vertical[:array1.shape[0], :]\n",
    "bottom_half = concatenated_vertical[array1.shape[0]:, :]\n",
    "\n",
    "print(\"Split from concatenated horizontal (assuming original shapes are known):\")\n",
    "print(\"First half:\\n\", first_half)\n",
    "print(\"Second half:\\n\", second_half)\n",
    "\n",
    "print(\"Split from concatenated vertical (assuming original shapes are known):\")\n",
    "print(\"Top half:\\n\", top_half)\n",
    "print(\"Bottom half:\\n\", bottom_half)\n"
   ]
  },
  {
   "cell_type": "markdown",
   "id": "0187d1ee-fde4-43a2-a7bd-899b77ca9945",
   "metadata": {},
   "source": [
    "## Find mode of this array  = [1,2,1,2,3,4,5,6,8,9,1,2,2,22,21,1,1,1,1,2,5]\r\n",
    "\r\n",
    "Hint: Use count and also oploop"
   ]
  },
  {
   "cell_type": "code",
   "execution_count": 41,
   "id": "02747860-8339-4743-b48e-51352c74a123",
   "metadata": {},
   "outputs": [
    {
     "name": "stdout",
     "output_type": "stream",
     "text": [
      "The mode of the array is: 1\n"
     ]
    }
   ],
   "source": [
    "# Initialize a dictionary to store counts for each number\n",
    "number_counts = {}\n",
    "for number in [1, 2, 1, 2, 3, 4, 5, 6, 8, 9, 1, 2, 2, 22, 21, 1, 1, 1, 1, 2, 5]:\n",
    "  if number in number_counts:\n",
    "    number_counts[number] += 1 \n",
    "  else:\n",
    "    number_counts[number] = 1 \n",
    "mode = max(number_counts, key=number_counts.get)\n",
    "print(\"The mode of the array is:\", mode)\n"
   ]
  },
  {
   "cell_type": "code",
   "execution_count": null,
   "id": "0b2ac1d9-7e1d-4139-823c-0888431d6485",
   "metadata": {},
   "outputs": [],
   "source": []
  }
 ],
 "metadata": {
  "kernelspec": {
   "display_name": "Python 3 (ipykernel)",
   "language": "python",
   "name": "python3"
  },
  "language_info": {
   "codemirror_mode": {
    "name": "ipython",
    "version": 3
   },
   "file_extension": ".py",
   "mimetype": "text/x-python",
   "name": "python",
   "nbconvert_exporter": "python",
   "pygments_lexer": "ipython3",
   "version": "3.11.7"
  }
 },
 "nbformat": 4,
 "nbformat_minor": 5
}
